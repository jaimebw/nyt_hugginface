{
 "cells": [
  {
   "cell_type": "code",
   "execution_count": 23,
   "id": "e6587adb-e4d0-4448-bb58-fcecc7abb329",
   "metadata": {},
   "outputs": [],
   "source": [
    "import pandas as pd"
   ]
  },
  {
   "cell_type": "code",
   "execution_count": 24,
   "id": "fed3c834-8def-448c-8992-b22a7d9b8158",
   "metadata": {},
   "outputs": [],
   "source": [
    "df = pd.read_csv(\"original_data/NYT_Dataset.csv\",index_col = 0, parse_dates = [\"Date\"],na_values=['nan'])\n",
    "df[\"no_key\"] = df.keywords.apply(lambda x: len(x)) # vals in string, if len == 2, then string is \"[]\"\n",
    "n_rows = df.shape[0]"
   ]
  },
  {
   "cell_type": "markdown",
   "id": "69eeda7e-1207-405a-be15-269ec119ab38",
   "metadata": {},
   "source": [
    "## Delete all nan values from the dataset"
   ]
  },
  {
   "cell_type": "code",
   "execution_count": 25,
   "id": "2960660a-8ec2-4061-b1c8-34927b005795",
   "metadata": {},
   "outputs": [],
   "source": [
    "nan_vals_to_drop = df.loc[(df.title.isnull())|(df.abstract.isnull())|(df.no_key == 2)].index\n",
    "df.drop(nan_vals_to_drop, inplace = True)\n",
    "df.reset_index(drop = True,inplace = True)"
   ]
  },
  {
   "cell_type": "code",
   "execution_count": 26,
   "id": "c0299290-8fd4-4cd9-9496-67f87ffa6253",
   "metadata": {},
   "outputs": [
    {
     "data": {
      "text/html": [
       "<div>\n",
       "<style scoped>\n",
       "    .dataframe tbody tr th:only-of-type {\n",
       "        vertical-align: middle;\n",
       "    }\n",
       "\n",
       "    .dataframe tbody tr th {\n",
       "        vertical-align: top;\n",
       "    }\n",
       "\n",
       "    .dataframe thead th {\n",
       "        text-align: right;\n",
       "    }\n",
       "</style>\n",
       "<table border=\"1\" class=\"dataframe\">\n",
       "  <thead>\n",
       "    <tr style=\"text-align: right;\">\n",
       "      <th></th>\n",
       "      <th>ID</th>\n",
       "      <th>title</th>\n",
       "      <th>topic</th>\n",
       "      <th>abstract</th>\n",
       "      <th>Date</th>\n",
       "      <th>keywords</th>\n",
       "      <th>no_key</th>\n",
       "    </tr>\n",
       "  </thead>\n",
       "  <tbody>\n",
       "    <tr>\n",
       "      <th>0</th>\n",
       "      <td>nyt://article/178801fe-4679-5f12-985f-8344a86e...</td>\n",
       "      <td>In Reversal, Pakistan Welcomes Outside Help Wi...</td>\n",
       "      <td>Foreign</td>\n",
       "      <td>Pakistan’s ambassador to the U.S. said his gov...</td>\n",
       "      <td>2008-01-01 05:00:00+00:00</td>\n",
       "      <td>['Assassinations and Attempted Assassinations'...</td>\n",
       "      <td>131</td>\n",
       "    </tr>\n",
       "    <tr>\n",
       "      <th>1</th>\n",
       "      <td>nyt://article/21acedcb-a7f6-5131-99cf-d3a47e33...</td>\n",
       "      <td>Fighting Intensifies After Election in Kenya</td>\n",
       "      <td>Foreign</td>\n",
       "      <td>Kenya sank deeper into trouble, with a curfew ...</td>\n",
       "      <td>2008-01-01 05:00:00+00:00</td>\n",
       "      <td>['Kenya', 'Demonstrations and Riots', 'Odinga,...</td>\n",
       "      <td>83</td>\n",
       "    </tr>\n",
       "    <tr>\n",
       "      <th>2</th>\n",
       "      <td>nyt://article/357b5429-a9f8-5d33-a5eb-c013a201...</td>\n",
       "      <td>Israel: Olmert Curbs Settlements</td>\n",
       "      <td>Foreign</td>\n",
       "      <td>Prime Minister Ehud Olmert has sent a letter t...</td>\n",
       "      <td>2008-01-01 05:00:00+00:00</td>\n",
       "      <td>['West Bank']</td>\n",
       "      <td>13</td>\n",
       "    </tr>\n",
       "    <tr>\n",
       "      <th>3</th>\n",
       "      <td>nyt://article/619ca4ea-50e4-59e4-97bb-f206502c...</td>\n",
       "      <td>Gay Muslims Pack a Dance Floor of Their Own</td>\n",
       "      <td>Foreign</td>\n",
       "      <td>The monthly club night known as Gayhane is an ...</td>\n",
       "      <td>2008-01-01 05:00:00+00:00</td>\n",
       "      <td>['Homosexuality', 'Islam', 'IMMIGRATION AND RE...</td>\n",
       "      <td>74</td>\n",
       "    </tr>\n",
       "    <tr>\n",
       "      <th>4</th>\n",
       "      <td>nyt://article/73c49a5a-bcf1-5b8f-a15a-98d29003...</td>\n",
       "      <td>Iraqi Revelers Embrace the New Year</td>\n",
       "      <td>Foreign</td>\n",
       "      <td>But even as partygoers embraced the New Year, ...</td>\n",
       "      <td>2008-01-01 05:00:00+00:00</td>\n",
       "      <td>['ARMAMENT, DEFENSE AND MILITARY FORCES', 'Iraq']</td>\n",
       "      <td>49</td>\n",
       "    </tr>\n",
       "  </tbody>\n",
       "</table>\n",
       "</div>"
      ],
      "text/plain": [
       "                                                  ID  \\\n",
       "0  nyt://article/178801fe-4679-5f12-985f-8344a86e...   \n",
       "1  nyt://article/21acedcb-a7f6-5131-99cf-d3a47e33...   \n",
       "2  nyt://article/357b5429-a9f8-5d33-a5eb-c013a201...   \n",
       "3  nyt://article/619ca4ea-50e4-59e4-97bb-f206502c...   \n",
       "4  nyt://article/73c49a5a-bcf1-5b8f-a15a-98d29003...   \n",
       "\n",
       "                                               title    topic  \\\n",
       "0  In Reversal, Pakistan Welcomes Outside Help Wi...  Foreign   \n",
       "1       Fighting Intensifies After Election in Kenya  Foreign   \n",
       "2                   Israel: Olmert Curbs Settlements  Foreign   \n",
       "3        Gay Muslims Pack a Dance Floor of Their Own  Foreign   \n",
       "4                Iraqi Revelers Embrace the New Year  Foreign   \n",
       "\n",
       "                                            abstract  \\\n",
       "0  Pakistan’s ambassador to the U.S. said his gov...   \n",
       "1  Kenya sank deeper into trouble, with a curfew ...   \n",
       "2  Prime Minister Ehud Olmert has sent a letter t...   \n",
       "3  The monthly club night known as Gayhane is an ...   \n",
       "4  But even as partygoers embraced the New Year, ...   \n",
       "\n",
       "                       Date  \\\n",
       "0 2008-01-01 05:00:00+00:00   \n",
       "1 2008-01-01 05:00:00+00:00   \n",
       "2 2008-01-01 05:00:00+00:00   \n",
       "3 2008-01-01 05:00:00+00:00   \n",
       "4 2008-01-01 05:00:00+00:00   \n",
       "\n",
       "                                            keywords  no_key  \n",
       "0  ['Assassinations and Attempted Assassinations'...     131  \n",
       "1  ['Kenya', 'Demonstrations and Riots', 'Odinga,...      83  \n",
       "2                                      ['West Bank']      13  \n",
       "3  ['Homosexuality', 'Islam', 'IMMIGRATION AND RE...      74  \n",
       "4  ['ARMAMENT, DEFENSE AND MILITARY FORCES', 'Iraq']      49  "
      ]
     },
     "execution_count": 26,
     "metadata": {},
     "output_type": "execute_result"
    }
   ],
   "source": [
    "df.head()"
   ]
  },
  {
   "cell_type": "markdown",
   "id": "97c7d797-901a-41f2-b5d0-9bed7ca57ae3",
   "metadata": {},
   "source": [
    "## Dropping the repeated titles or abstracts"
   ]
  },
  {
   "cell_type": "code",
   "execution_count": 27,
   "id": "849aff19-1f51-4bd9-80e9-61f69c094984",
   "metadata": {},
   "outputs": [],
   "source": [
    "titles_to_drop = df.title.value_counts().loc[df.title.value_counts()>2].index.to_list()\n",
    "abstracts_to_drop = df.abstract.value_counts().loc[df.abstract.value_counts()>2].index.to_list()"
   ]
  },
  {
   "cell_type": "code",
   "execution_count": 28,
   "id": "39766a76-c866-49eb-b264-0aa1167245cc",
   "metadata": {},
   "outputs": [],
   "source": [
    "reperated_titles_abstracts = df.loc[df.title.isin(titles_to_drop) |df.abstract.isin(abstracts_to_drop)].index\n",
    "df.drop(reperated_titles_abstracts,inplace = True)\n",
    "df.reset_index(inplace = True,drop = True)"
   ]
  },
  {
   "cell_type": "code",
   "execution_count": 29,
   "id": "0f5a208e-9398-4834-bb7f-6abaf4824c3f",
   "metadata": {},
   "outputs": [
    {
     "data": {
      "text/html": [
       "<div>\n",
       "<style scoped>\n",
       "    .dataframe tbody tr th:only-of-type {\n",
       "        vertical-align: middle;\n",
       "    }\n",
       "\n",
       "    .dataframe tbody tr th {\n",
       "        vertical-align: top;\n",
       "    }\n",
       "\n",
       "    .dataframe thead th {\n",
       "        text-align: right;\n",
       "    }\n",
       "</style>\n",
       "<table border=\"1\" class=\"dataframe\">\n",
       "  <thead>\n",
       "    <tr style=\"text-align: right;\">\n",
       "      <th></th>\n",
       "      <th>ID</th>\n",
       "      <th>title</th>\n",
       "      <th>topic</th>\n",
       "      <th>abstract</th>\n",
       "      <th>Date</th>\n",
       "      <th>keywords</th>\n",
       "      <th>no_key</th>\n",
       "    </tr>\n",
       "  </thead>\n",
       "  <tbody>\n",
       "    <tr>\n",
       "      <th>0</th>\n",
       "      <td>nyt://article/178801fe-4679-5f12-985f-8344a86e...</td>\n",
       "      <td>In Reversal, Pakistan Welcomes Outside Help Wi...</td>\n",
       "      <td>Foreign</td>\n",
       "      <td>Pakistan’s ambassador to the U.S. said his gov...</td>\n",
       "      <td>2008-01-01 05:00:00+00:00</td>\n",
       "      <td>['Assassinations and Attempted Assassinations'...</td>\n",
       "      <td>131</td>\n",
       "    </tr>\n",
       "    <tr>\n",
       "      <th>1</th>\n",
       "      <td>nyt://article/21acedcb-a7f6-5131-99cf-d3a47e33...</td>\n",
       "      <td>Fighting Intensifies After Election in Kenya</td>\n",
       "      <td>Foreign</td>\n",
       "      <td>Kenya sank deeper into trouble, with a curfew ...</td>\n",
       "      <td>2008-01-01 05:00:00+00:00</td>\n",
       "      <td>['Kenya', 'Demonstrations and Riots', 'Odinga,...</td>\n",
       "      <td>83</td>\n",
       "    </tr>\n",
       "    <tr>\n",
       "      <th>2</th>\n",
       "      <td>nyt://article/357b5429-a9f8-5d33-a5eb-c013a201...</td>\n",
       "      <td>Israel: Olmert Curbs Settlements</td>\n",
       "      <td>Foreign</td>\n",
       "      <td>Prime Minister Ehud Olmert has sent a letter t...</td>\n",
       "      <td>2008-01-01 05:00:00+00:00</td>\n",
       "      <td>['West Bank']</td>\n",
       "      <td>13</td>\n",
       "    </tr>\n",
       "    <tr>\n",
       "      <th>3</th>\n",
       "      <td>nyt://article/619ca4ea-50e4-59e4-97bb-f206502c...</td>\n",
       "      <td>Gay Muslims Pack a Dance Floor of Their Own</td>\n",
       "      <td>Foreign</td>\n",
       "      <td>The monthly club night known as Gayhane is an ...</td>\n",
       "      <td>2008-01-01 05:00:00+00:00</td>\n",
       "      <td>['Homosexuality', 'Islam', 'IMMIGRATION AND RE...</td>\n",
       "      <td>74</td>\n",
       "    </tr>\n",
       "    <tr>\n",
       "      <th>4</th>\n",
       "      <td>nyt://article/73c49a5a-bcf1-5b8f-a15a-98d29003...</td>\n",
       "      <td>Iraqi Revelers Embrace the New Year</td>\n",
       "      <td>Foreign</td>\n",
       "      <td>But even as partygoers embraced the New Year, ...</td>\n",
       "      <td>2008-01-01 05:00:00+00:00</td>\n",
       "      <td>['ARMAMENT, DEFENSE AND MILITARY FORCES', 'Iraq']</td>\n",
       "      <td>49</td>\n",
       "    </tr>\n",
       "  </tbody>\n",
       "</table>\n",
       "</div>"
      ],
      "text/plain": [
       "                                                  ID  \\\n",
       "0  nyt://article/178801fe-4679-5f12-985f-8344a86e...   \n",
       "1  nyt://article/21acedcb-a7f6-5131-99cf-d3a47e33...   \n",
       "2  nyt://article/357b5429-a9f8-5d33-a5eb-c013a201...   \n",
       "3  nyt://article/619ca4ea-50e4-59e4-97bb-f206502c...   \n",
       "4  nyt://article/73c49a5a-bcf1-5b8f-a15a-98d29003...   \n",
       "\n",
       "                                               title    topic  \\\n",
       "0  In Reversal, Pakistan Welcomes Outside Help Wi...  Foreign   \n",
       "1       Fighting Intensifies After Election in Kenya  Foreign   \n",
       "2                   Israel: Olmert Curbs Settlements  Foreign   \n",
       "3        Gay Muslims Pack a Dance Floor of Their Own  Foreign   \n",
       "4                Iraqi Revelers Embrace the New Year  Foreign   \n",
       "\n",
       "                                            abstract  \\\n",
       "0  Pakistan’s ambassador to the U.S. said his gov...   \n",
       "1  Kenya sank deeper into trouble, with a curfew ...   \n",
       "2  Prime Minister Ehud Olmert has sent a letter t...   \n",
       "3  The monthly club night known as Gayhane is an ...   \n",
       "4  But even as partygoers embraced the New Year, ...   \n",
       "\n",
       "                       Date  \\\n",
       "0 2008-01-01 05:00:00+00:00   \n",
       "1 2008-01-01 05:00:00+00:00   \n",
       "2 2008-01-01 05:00:00+00:00   \n",
       "3 2008-01-01 05:00:00+00:00   \n",
       "4 2008-01-01 05:00:00+00:00   \n",
       "\n",
       "                                            keywords  no_key  \n",
       "0  ['Assassinations and Attempted Assassinations'...     131  \n",
       "1  ['Kenya', 'Demonstrations and Riots', 'Odinga,...      83  \n",
       "2                                      ['West Bank']      13  \n",
       "3  ['Homosexuality', 'Islam', 'IMMIGRATION AND RE...      74  \n",
       "4  ['ARMAMENT, DEFENSE AND MILITARY FORCES', 'Iraq']      49  "
      ]
     },
     "execution_count": 29,
     "metadata": {},
     "output_type": "execute_result"
    }
   ],
   "source": [
    "df.head()"
   ]
  },
  {
   "cell_type": "code",
   "execution_count": 30,
   "id": "165332b5-acbe-43b1-8110-a3eb08a920c4",
   "metadata": {},
   "outputs": [
    {
     "name": "stdout",
     "output_type": "stream",
     "text": [
      "6.1% of the rows has been deleted\n"
     ]
    }
   ],
   "source": [
    "final_rows = df.shape[0]\n",
    "deleted_rows = n_rows-final_rows\n",
    "per_del = deleted_rows/n_rows\n",
    "per_del = round(per_del,3)\n",
    "print(f\"{per_del*100}% of the rows has been deleted\")"
   ]
  },
  {
   "cell_type": "markdown",
   "id": "d412b26c-7975-4adc-8e60-6383fef4c896",
   "metadata": {
    "tags": []
   },
   "source": [
    "## Transforming the keywords into a list"
   ]
  },
  {
   "cell_type": "code",
   "execution_count": 31,
   "id": "3d4f4bf8-22eb-4127-8078-773b649ccff4",
   "metadata": {},
   "outputs": [],
   "source": [
    "def get_keywords(text:str):\n",
    "    \"\"\"\n",
    "    Transforming the string keywords to a list of values\n",
    "    \n",
    "    \n",
    "    \"\"\"\n",
    "    text = text.replace(\"[\",\"\")\n",
    "    text = text.replace(\"'\",\"\")\n",
    "    text = text.replace(\"]\",\"\")\n",
    "    text = text.split(\",\")\n",
    "    # Delete \\n or space in front of words: [\" jaja\",\" lol\"] -> [\"jaja,\"lol\"]\n",
    "    text = [i.strip() for i in text] \n",
    "    return text"
   ]
  },
  {
   "cell_type": "code",
   "execution_count": 32,
   "id": "36807a4e-93cc-4e3b-bd5c-7572323bd54f",
   "metadata": {},
   "outputs": [],
   "source": [
    "df[\"keywords\"] = df.keywords.apply(lambda x: get_keywords(x))"
   ]
  },
  {
   "cell_type": "code",
   "execution_count": 33,
   "id": "8d2def77-a61e-4af3-b918-0c62822fd265",
   "metadata": {},
   "outputs": [],
   "source": [
    "df[[\"title\",\"topic\",\"abstract\"]] = df[[\"title\",\"topic\",\"abstract\"]].astype(str) # ensure string dtype"
   ]
  },
  {
   "cell_type": "code",
   "execution_count": 34,
   "id": "511a987d-575f-4cd0-8ec7-a35d26a5f348",
   "metadata": {},
   "outputs": [],
   "source": [
    "df.drop(columns = [\"no_key\"],inplace = True) # delete not neccesary columns"
   ]
  },
  {
   "cell_type": "code",
   "execution_count": 35,
   "id": "d6e8cdf0-9d6a-40a4-ad75-1ce43236266e",
   "metadata": {},
   "outputs": [],
   "source": [
    "#df.to_json(\"NYT_Dataset.json\")\n",
    "df.to_csv(\"NYT_Dataset.csv\")"
   ]
  },
  {
   "cell_type": "markdown",
   "id": "16000d91",
   "metadata": {},
   "source": [
    "## Testing the datasets library with the new dataset"
   ]
  },
  {
   "cell_type": "code",
   "execution_count": 36,
   "id": "ee428c31-71e1-4ca5-89df-cb9d8364e606",
   "metadata": {},
   "outputs": [],
   "source": [
    "from datasets import load_dataset"
   ]
  },
  {
   "cell_type": "code",
   "execution_count": 37,
   "id": "bc668917-688d-46a0-aaa9-2dbad75eb21b",
   "metadata": {},
   "outputs": [
    {
     "name": "stderr",
     "output_type": "stream",
     "text": [
      "Using custom data configuration default-5135cb3c75baf478\n"
     ]
    },
    {
     "name": "stdout",
     "output_type": "stream",
     "text": [
      "Downloading and preparing dataset csv/default to /Users/jaime/.cache/huggingface/datasets/csv/default-5135cb3c75baf478/0.0.0/6b34fb8fcf56f7c8ba51dc895bfa2bfbe43546f190a60fcf74bb5e8afdcc2317...\n"
     ]
    },
    {
     "data": {
      "application/vnd.jupyter.widget-view+json": {
       "model_id": "59fbf8778fc14a1db8d3392b1c22ab4d",
       "version_major": 2,
       "version_minor": 0
      },
      "text/plain": [
       "Downloading data files:   0%|          | 0/1 [00:00<?, ?it/s]"
      ]
     },
     "metadata": {},
     "output_type": "display_data"
    },
    {
     "data": {
      "application/vnd.jupyter.widget-view+json": {
       "model_id": "a409d59cd73e49c28106200bb4b0b1fe",
       "version_major": 2,
       "version_minor": 0
      },
      "text/plain": [
       "Extracting data files:   0%|          | 0/1 [00:00<?, ?it/s]"
      ]
     },
     "metadata": {},
     "output_type": "display_data"
    },
    {
     "data": {
      "application/vnd.jupyter.widget-view+json": {
       "model_id": "3b577a7eb11f41ebb0093f1d3741fc81",
       "version_major": 2,
       "version_minor": 0
      },
      "text/plain": [
       "Generating train split: 0 examples [00:00, ? examples/s]"
      ]
     },
     "metadata": {},
     "output_type": "display_data"
    },
    {
     "name": "stdout",
     "output_type": "stream",
     "text": [
      "Dataset csv downloaded and prepared to /Users/jaime/.cache/huggingface/datasets/csv/default-5135cb3c75baf478/0.0.0/6b34fb8fcf56f7c8ba51dc895bfa2bfbe43546f190a60fcf74bb5e8afdcc2317. Subsequent calls will reuse this data.\n"
     ]
    },
    {
     "data": {
      "application/vnd.jupyter.widget-view+json": {
       "model_id": "995ad22d7d1441c9873f9fa2cb84b9bf",
       "version_major": 2,
       "version_minor": 0
      },
      "text/plain": [
       "  0%|          | 0/1 [00:00<?, ?it/s]"
      ]
     },
     "metadata": {},
     "output_type": "display_data"
    }
   ],
   "source": [
    "data = load_dataset(\"csv\",data_files=\"NYT_Dataset.csv\")"
   ]
  }
 ],
 "metadata": {
  "kernelspec": {
   "display_name": "Python 3 (ipykernel)",
   "language": "python",
   "name": "python3"
  },
  "language_info": {
   "codemirror_mode": {
    "name": "ipython",
    "version": 3
   },
   "file_extension": ".py",
   "mimetype": "text/x-python",
   "name": "python",
   "nbconvert_exporter": "python",
   "pygments_lexer": "ipython3",
   "version": "3.10.6 | packaged by conda-forge | (main, Aug 22 2022, 20:41:54) [Clang 13.0.1 ]"
  },
  "vscode": {
   "interpreter": {
    "hash": "0b67bd2da1f3927c3259200cc1047614b18d0a80d466d65ca2a36f3218830a0e"
   }
  }
 },
 "nbformat": 4,
 "nbformat_minor": 5
}
